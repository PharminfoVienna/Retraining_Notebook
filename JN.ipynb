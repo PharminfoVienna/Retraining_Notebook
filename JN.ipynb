{
 "cells": [
  {
   "cell_type": "markdown",
   "metadata": {},
   "source": [
    "# BSEP "
   ]
  },
  {
   "cell_type": "markdown",
   "metadata": {
    "heading_collapsed": true
   },
   "source": [
    "## Import Libraries"
   ]
  },
  {
   "cell_type": "markdown",
   "metadata": {
    "hidden": true
   },
   "source": [
    "By importing the file/function using import, Python modules can get access to the code from another module."
   ]
  },
  {
   "cell_type": "code",
   "execution_count": 1,
   "metadata": {
    "hidden": true
   },
   "outputs": [],
   "source": [
    "import pandas as pd\n",
    "import numpy as np\n",
    "import itertools\n",
    "import matplotlib.pyplot as plt\n",
    "from rdkit import Chem\n",
    "from rdkit.Chem import AllChem, rdMolDescriptors\n",
    "from rdkit.Chem import PandasTools as PandasTools\n",
    "from sklearn.feature_selection import VarianceThreshold\n",
    "from sklearn import preprocessing\n",
    "from standardise import Standardization"
   ]
  },
  {
   "cell_type": "markdown",
   "metadata": {
    "heading_collapsed": true
   },
   "source": [
    "## Step 1: Data Upload & Data Addition"
   ]
  },
  {
   "cell_type": "markdown",
   "metadata": {
    "hidden": true
   },
   "source": [
    "In this section data provided by the University of Vienna can be combined with own in-house data. The addition of new compounds allows the creation of a new training set that can be used for the retraining of the Machine Learning (ML) models within this Jupyter Notebook (JN). \n",
    "\n",
    "!!! If you don’t want to add additional data, you can skip this step!!!"
   ]
  },
  {
   "cell_type": "markdown",
   "metadata": {
    "hidden": true
   },
   "source": [
    "### UNIVIE Data*"
   ]
  },
  {
   "cell_type": "markdown",
   "metadata": {
    "hidden": true
   },
   "source": [
    "UNIVIE data refers to collected, curated data that has been provided by the University of Vienna for the purpose of training/retraining ML models for six different endpoints:\n",
    "\n",
    "    • BCRP\n",
    "    • BSEP\n",
    "    • OATP1B1\n",
    "    • OATP1B3\n",
    "    • MRP3\n",
    "    • P-gp\n",
    "\n",
    "Datasets that will be used within this JN such as the training set and the test set must be saved within the folder /data.\n",
    "\n",
    "You can select the dataset for the endpoint by changing the file name at the variable “UNIVIE_Data”: e.g.: \"data/BSEP_Univie.sdf\" --> \"data/BCRP_Univie.sdf\""
   ]
  },
  {
   "cell_type": "code",
   "execution_count": 2,
   "metadata": {
    "hidden": true
   },
   "outputs": [],
   "source": [
    "# Please add the name of the UNIVIE file\n",
    "Univie_Data = \"data/BSEP_Univie.sdf\""
   ]
  },
  {
   "cell_type": "markdown",
   "metadata": {
    "hidden": true
   },
   "source": [
    "### Intern Data*"
   ]
  },
  {
   "cell_type": "markdown",
   "metadata": {
    "hidden": true
   },
   "source": [
    "You can include your own in-house dataset for the previous selected endpoint by changing the file name at the variable “Intern_Data” to the name of your dataset.\n",
    "\n",
    "\n",
    "\n",
    "Keep in mind that the path to your dataset has to be properly defined. "
   ]
  },
  {
   "cell_type": "code",
   "execution_count": 3,
   "metadata": {
    "hidden": true
   },
   "outputs": [],
   "source": [
    "# Please add the name of your file\n",
    "Intern_Data = \"data/BSEP_ChEMBL28.sdf\""
   ]
  },
  {
   "cell_type": "markdown",
   "metadata": {
    "hidden": true
   },
   "source": [
    "### Load SDF File"
   ]
  },
  {
   "cell_type": "markdown",
   "metadata": {
    "hidden": true
   },
   "source": [
    "The SDF-files are loaded into the JN as dataframes which allow better representation of the information contained within the SDF-files. "
   ]
  },
  {
   "cell_type": "code",
   "execution_count": 4,
   "metadata": {
    "hidden": true
   },
   "outputs": [],
   "source": [
    "df_Univie_Data = PandasTools.LoadSDF(Univie_Data)\n",
    "df_Intern_Data = PandasTools.LoadSDF(Intern_Data)"
   ]
  },
  {
   "cell_type": "markdown",
   "metadata": {
    "hidden": true
   },
   "source": [
    "### InChIs, SMILES & InChIkey Calculation"
   ]
  },
  {
   "cell_type": "markdown",
   "metadata": {
    "hidden": true
   },
   "source": [
    "To provide additional information about the molecules, the InChIs, SMILES, and InChIkeys are calculated."
   ]
  },
  {
   "cell_type": "code",
   "execution_count": 7,
   "metadata": {
    "hidden": true,
    "scrolled": true
   },
   "outputs": [],
   "source": [
    "df_Intern_Data['InChIs'] = df_Intern_Data['ROMol'].map(lambda x:AllChem.MolToInchi(x))\n",
    "df_Intern_Data['SMILES'] = df_Intern_Data['ROMol'].map(lambda x:AllChem.MolToSmiles(x))\n",
    "df_Intern_Data['InChIKey'] = df_Intern_Data['ROMol'].map(lambda x:AllChem.MolToInchiKey(x))"
   ]
  },
  {
   "cell_type": "markdown",
   "metadata": {
    "hidden": true
   },
   "source": [
    "### Remove Stereochemistry"
   ]
  },
  {
   "cell_type": "markdown",
   "metadata": {
    "hidden": true
   },
   "source": [
    "Stereochemistry is removed based on the previously calculated InChIs. This step is performed prior duplicate check."
   ]
  },
  {
   "cell_type": "code",
   "execution_count": 6,
   "metadata": {
    "hidden": true
   },
   "outputs": [],
   "source": [
    "ls_InChIs = df_Intern_Data['InChIs'].tolist()"
   ]
  },
  {
   "cell_type": "code",
   "execution_count": 7,
   "metadata": {
    "hidden": true,
    "scrolled": true
   },
   "outputs": [],
   "source": [
    "def removeStereo(fullInchi, position, delimiter):\n",
    "    return delimiter.join(fullInchi.split(delimiter)[:position])\n",
    "\n",
    "ls_Curated_InChIs = []\n",
    "\n",
    "for i in ls_InChIs:\n",
    "    ls_noniso = (removeStereo(i,4,\"/\"))\n",
    "    ls_Curated_InChIs.append(ls_noniso)\n",
    "    \n",
    "df_Intern_Data['Curated_InChIs'] = ls_Curated_InChIs"
   ]
  },
  {
   "cell_type": "markdown",
   "metadata": {
    "hidden": true
   },
   "source": [
    "### Duplicate Check"
   ]
  },
  {
   "cell_type": "markdown",
   "metadata": {
    "hidden": true
   },
   "source": [
    "The duplicates are removed based on the InChIs."
   ]
  },
  {
   "cell_type": "code",
   "execution_count": 8,
   "metadata": {
    "hidden": true
   },
   "outputs": [],
   "source": [
    "Intern_Unique = df_Intern_Data.drop_duplicates(subset='Curated_InChIs',keep='first')\n",
    "Intern_Duplicates = df_Intern_Data[df_Intern_Data.duplicated(['Curated_InChIs'], keep='first')]"
   ]
  },
  {
   "cell_type": "markdown",
   "metadata": {
    "hidden": true
   },
   "source": [
    "### Comparison of Classification Values of Removed Duplicates"
   ]
  },
  {
   "cell_type": "markdown",
   "metadata": {
    "hidden": true
   },
   "source": [
    "Classification values of duplicates are compared after the duplicate check and compounds with different values are excluded."
   ]
  },
  {
   "cell_type": "code",
   "execution_count": 9,
   "metadata": {
    "hidden": true
   },
   "outputs": [
    {
     "name": "stdout",
     "output_type": "stream",
     "text": [
      "No duplicates found.\n"
     ]
    }
   ],
   "source": [
    "def remove_classerror(x):\n",
    "        if x in df_classerror:\n",
    "            df_classerror.remove(x)\n",
    "            return False\n",
    "        return True\n",
    "\n",
    "if len(Intern_Duplicates.index) == 0:\n",
    "    print('No duplicates found.')\n",
    "else:\n",
    "    Comparison_dupl = Intern_Duplicates[['ROMol','Classification','Curated_InChIs']]\n",
    "    Comparison_uniq = Intern_Unique[['ROMol','Classification','Curated_InChIs']]\n",
    "    merged   =    pd.merge(\n",
    "                  left=Comparison_dupl,\n",
    "                  right=Comparison_uniq,\n",
    "                  how=\"left\",\n",
    "                  left_on=\"Curated_InChIs\",\n",
    "                  right_on=\"Curated_InChIs\")\n",
    "    merged['Class_Match'] = merged.apply(lambda x : str(x.Classification_x) in str(x.Classification_y), axis=1)\n",
    "    Non_Matching_Class = merged.loc[merged['Class_Match'] == False]\n",
    "    df_classerror = Non_Matching_Class['Curated_InChIs'].tolist()\n",
    "    Intern_Unique = Intern_Unique[Intern_Unique.Curated_InChIs.apply(remove_classerror)]\n",
    "    print('Compounds with classification mismatch removed.')"
   ]
  },
  {
   "cell_type": "markdown",
   "metadata": {
    "hidden": true
   },
   "source": [
    "### Duplicate Removal"
   ]
  },
  {
   "cell_type": "markdown",
   "metadata": {
    "hidden": true
   },
   "source": [
    "InChIs from the UNIVIE dataset and the Intern dataset are compared with each other and duplicates are removed."
   ]
  },
  {
   "cell_type": "code",
   "execution_count": null,
   "metadata": {
    "hidden": true,
    "scrolled": true
   },
   "outputs": [],
   "source": [
    "def remove_duplicates(x):\n",
    "    if x in ls_Univie_Transporters:\n",
    "        ls_Univie_Transporters.remove(x)\n",
    "        return False\n",
    "    return True\n",
    "\n",
    "ls_Univie_Transporters = df_Univie_Data['Curated_InChIs'].tolist()\n",
    "\n",
    "\n",
    "Delta_Compounds = Intern_Unique[Intern_Unique.Curated_InChIs.apply(remove_duplicates)]\n",
    "Delta_Compounds.info()"
   ]
  },
  {
   "cell_type": "markdown",
   "metadata": {
    "hidden": true
   },
   "source": [
    "### Selection of Important Columns"
   ]
  },
  {
   "cell_type": "markdown",
   "metadata": {
    "hidden": true
   },
   "source": [
    "The columns: Classification, ROMol, InChI, SMILES and InChIKey are kept."
   ]
  },
  {
   "cell_type": "code",
   "execution_count": null,
   "metadata": {
    "hidden": true,
    "scrolled": true
   },
   "outputs": [],
   "source": [
    "Columns_Univie =  df_Univie_Data[['Classification', 'ROMol', 'Curated_InChIs','SMILES','InChIKey']]\n",
    "Columns_Intern = Delta_Compounds[['Classification', 'ROMol', 'Curated_InChIs','SMILES','InChIKey']]\n",
    "Training_Set = pd.concat([Columns_Univie, Columns_Intern], sort=False)"
   ]
  },
  {
   "cell_type": "markdown",
   "metadata": {
    "hidden": true
   },
   "source": [
    "### Save Generated Training Set"
   ]
  },
  {
   "cell_type": "markdown",
   "metadata": {
    "hidden": true
   },
   "source": [
    "A SDF-file is generated namely:” Training_Set.sdf” which includes a new training set with the above mentioned columns."
   ]
  },
  {
   "cell_type": "code",
   "execution_count": null,
   "metadata": {
    "hidden": true
   },
   "outputs": [],
   "source": [
    "PandasTools.WriteSDF(Training_Set,\"data/BSEP_Training_Set.sdf\",properties=list(Training_Set.columns))"
   ]
  },
  {
   "cell_type": "markdown",
   "metadata": {
    "heading_collapsed": true
   },
   "source": [
    "## Step 2: Data Set Preparation for ML Task"
   ]
  },
  {
   "cell_type": "markdown",
   "metadata": {
    "hidden": true
   },
   "source": [
    "### Read SDF"
   ]
  },
  {
   "cell_type": "markdown",
   "metadata": {
    "hidden": true
   },
   "source": [
    "#### Training set*"
   ]
  },
  {
   "cell_type": "markdown",
   "metadata": {
    "hidden": true
   },
   "source": [
    "The training set is uploaded into the JN at the variable \"molecules\" via the RDKit functionality for working with molecular file format.\n",
    "\n",
    "You can select the training set for the endpoint by changing the file name at the variable \"molecules\"."
   ]
  },
  {
   "cell_type": "code",
   "execution_count": 4,
   "metadata": {
    "hidden": true
   },
   "outputs": [],
   "source": [
    "# Please add the name of your training set\n",
    "molecules = Chem.ForwardSDMolSupplier(\"data/BSEP_Univie.sdf\", sanitize=False)"
   ]
  },
  {
   "cell_type": "markdown",
   "metadata": {
    "hidden": true
   },
   "source": [
    "#### Test set*"
   ]
  },
  {
   "cell_type": "markdown",
   "metadata": {
    "hidden": true
   },
   "source": [
    "The test set is uploaded into the JN at the variable \"test_molecules\" via the RDKit functionality for working with molecular file format.\n",
    "\n",
    "You can select the test set for the endpoint by changing the file name at the variable \"test_molecules\"."
   ]
  },
  {
   "cell_type": "code",
   "execution_count": 5,
   "metadata": {
    "hidden": true
   },
   "outputs": [],
   "source": [
    "# Please add the name of your test set\n",
    "test_molecules = Chem.ForwardSDMolSupplier(\"data/BSEP_ChEMBL28.sdf\", sanitize=False)"
   ]
  },
  {
   "cell_type": "markdown",
   "metadata": {
    "hidden": true
   },
   "source": [
    "### Standardisation"
   ]
  },
  {
   "cell_type": "markdown",
   "metadata": {
    "hidden": true
   },
   "source": [
    "#### Training set"
   ]
  },
  {
   "cell_type": "markdown",
   "metadata": {
    "hidden": true
   },
   "source": [
    "Compounds within the training set are standardised using a modified atkinson standardizer. "
   ]
  },
  {
   "cell_type": "code",
   "execution_count": 6,
   "metadata": {
    "hidden": true,
    "scrolled": true
   },
   "outputs": [
    {
     "name": "stderr",
     "output_type": "stream",
     "text": [
      "RDKit WARNING: [17:42:47] Warning: molecule is tagged as 3D, but all Z coords are zero\n",
      "RDKit WARNING: [17:42:47] Warning: molecule is tagged as 3D, but all Z coords are zero\n",
      "RDKit WARNING: [17:42:47] Warning: molecule is tagged as 3D, but all Z coords are zero\n",
      "RDKit WARNING: [17:42:47] Warning: molecule is tagged as 3D, but all Z coords are zero\n",
      "RDKit WARNING: [17:42:47] Warning: molecule is tagged as 3D, but all Z coords are zero\n",
      "RDKit WARNING: [17:42:47] Warning: molecule is tagged as 3D, but all Z coords are zero\n",
      "RDKit WARNING: [17:42:47] Warning: molecule is tagged as 3D, but all Z coords are zero\n",
      "RDKit WARNING: [17:42:47] Warning: molecule is tagged as 3D, but all Z coords are zero\n",
      "RDKit WARNING: [17:42:47] Warning: molecule is tagged as 3D, but all Z coords are zero\n",
      "RDKit WARNING: [17:42:47] Warning: molecule is tagged as 3D, but all Z coords are zero\n",
      "RDKit WARNING: [17:42:47] Warning: molecule is tagged as 3D, but all Z coords are zero\n",
      "RDKit WARNING: [17:42:47] Warning: molecule is tagged as 3D, but all Z coords are zero\n",
      "RDKit WARNING: [17:42:47] Warning: molecule is tagged as 3D, but all Z coords are zero\n",
      "RDKit WARNING: [17:42:47] Warning: molecule is tagged as 3D, but all Z coords are zero\n",
      "RDKit WARNING: [17:42:47] Warning: molecule is tagged as 3D, but all Z coords are zero\n",
      "RDKit WARNING: [17:42:47] Warning: molecule is tagged as 3D, but all Z coords are zero\n",
      "RDKit WARNING: [17:42:47] Warning: molecule is tagged as 3D, but all Z coords are zero\n",
      "RDKit WARNING: [17:42:47] Warning: molecule is tagged as 3D, but all Z coords are zero\n",
      "RDKit WARNING: [17:42:47] Warning: molecule is tagged as 3D, but all Z coords are zero\n",
      "RDKit WARNING: [17:42:47] Warning: molecule is tagged as 3D, but all Z coords are zero\n"
     ]
    }
   ],
   "source": [
    "stand = Standardization()\n",
    "\n",
    "train_molcount = 0\n",
    "\n",
    "standardised_molecules = []\n",
    "            \n",
    "for mol in molecules:\n",
    "        train_molcount += 1\n",
    "\n",
    "        if mol is None:\n",
    "            continue\n",
    "\n",
    "        standardisation_ok, molOrError = stand.standardise(mol)\n",
    "        \n",
    "        if standardisation_ok == True:\n",
    "            standardised_molecules.append(molOrError)\n",
    "        else:\n",
    "            print(molOrError)"
   ]
  },
  {
   "cell_type": "markdown",
   "metadata": {
    "hidden": true
   },
   "source": [
    "A standardised training set dataframe is created that can be saved as a SDF-file."
   ]
  },
  {
   "cell_type": "code",
   "execution_count": null,
   "metadata": {
    "hidden": true
   },
   "outputs": [],
   "source": [
    "df_standardised_train_molecules = pd.DataFrame(standardised_molecules)\n",
    "df_standardised_train_molecules.rename(columns = {0:'ROMol'}, inplace = True)"
   ]
  },
  {
   "cell_type": "markdown",
   "metadata": {
    "hidden": true
   },
   "source": [
    "A SDF-file is generated namely:” standardised_train_molecules.sdf” which includes the standardised training set."
   ]
  },
  {
   "cell_type": "code",
   "execution_count": null,
   "metadata": {
    "hidden": true
   },
   "outputs": [],
   "source": [
    "PandasTools.WriteSDF(df_standardised_train_molecules,\"data/BSEP_standardised_train_molecules.sdf\",properties=list(df_standardised_train_molecules.columns))"
   ]
  },
  {
   "cell_type": "markdown",
   "metadata": {
    "hidden": true
   },
   "source": [
    "#### Test set"
   ]
  },
  {
   "cell_type": "markdown",
   "metadata": {
    "hidden": true
   },
   "source": [
    "Compounds within the test set are standardised using a modified atkinson standardizer. "
   ]
  },
  {
   "cell_type": "code",
   "execution_count": 7,
   "metadata": {
    "hidden": true
   },
   "outputs": [],
   "source": [
    "stand = Standardization()\n",
    "\n",
    "test_molcount = 0\n",
    "\n",
    "standardised_test_molecules = []\n",
    "\n",
    "for mol in test_molecules:\n",
    "        test_molcount += 1\n",
    "        \n",
    "        if mol is None:\n",
    "            continue\n",
    "            \n",
    "        standardisation_ok, molOrError = stand.standardise(mol)\n",
    "        \n",
    "        if standardisation_ok == True:\n",
    "            standardised_test_molecules.append(molOrError)\n",
    "        else:\n",
    "            print(molOrError)"
   ]
  },
  {
   "cell_type": "markdown",
   "metadata": {
    "hidden": true
   },
   "source": [
    "A standardised test set dataframe is created that can be saved as a SDF-file."
   ]
  },
  {
   "cell_type": "code",
   "execution_count": 8,
   "metadata": {
    "hidden": true
   },
   "outputs": [],
   "source": [
    "df_standardised_test_molecules = pd.DataFrame(standardised_test_molecules)\n",
    "df_standardised_test_molecules.rename(columns = {0:'ROMol'}, inplace = True)"
   ]
  },
  {
   "cell_type": "markdown",
   "metadata": {
    "hidden": true
   },
   "source": [
    "A SDF-file is generated namely:” standardised_test_molecules.sdf” which includes the standardised test set.\n",
    "\n",
    "This standardised test set is later used for the applicability domain (AD). "
   ]
  },
  {
   "cell_type": "code",
   "execution_count": 108,
   "metadata": {
    "hidden": true
   },
   "outputs": [],
   "source": [
    "PandasTools.WriteSDF(df_standardised_test_molecules,\"data/BSEP_standardised_test_molecules.sdf\",properties=list(df_standardised_test_molecules.columns))"
   ]
  },
  {
   "cell_type": "markdown",
   "metadata": {
    "hidden": true
   },
   "source": [
    "### Check Standardisation"
   ]
  },
  {
   "cell_type": "markdown",
   "metadata": {
    "hidden": true
   },
   "source": [
    "The number of compounds within the training set that were able to be standardised is displayed."
   ]
  },
  {
   "cell_type": "code",
   "execution_count": 10,
   "metadata": {
    "hidden": true
   },
   "outputs": [
    {
     "name": "stdout",
     "output_type": "stream",
     "text": [
      "1321 of 1321 compounds could be standardised.\n"
     ]
    }
   ],
   "source": [
    "print (str(len(standardised_molecules)) + ' of ' + str(train_molcount) + ' compounds could be standardised.')"
   ]
  },
  {
   "cell_type": "markdown",
   "metadata": {
    "hidden": true
   },
   "source": [
    "The number of compounds within the test set that were able to be standardised is displayed."
   ]
  },
  {
   "cell_type": "code",
   "execution_count": 11,
   "metadata": {
    "hidden": true
   },
   "outputs": [
    {
     "name": "stdout",
     "output_type": "stream",
     "text": [
      "10 of 10 compounds could be standardised.\n"
     ]
    }
   ],
   "source": [
    "print (str(len(standardised_test_molecules)) + ' of ' + str(test_molcount) + ' compounds could be standardised.')"
   ]
  },
  {
   "cell_type": "markdown",
   "metadata": {
    "hidden": true
   },
   "source": [
    "### Check Descriptors"
   ]
  },
  {
   "cell_type": "code",
   "execution_count": 12,
   "metadata": {
    "hidden": true
   },
   "outputs": [],
   "source": [
    "from rdkit.ML.Descriptors import MoleculeDescriptors\n",
    "import numpy as np"
   ]
  },
  {
   "cell_type": "markdown",
   "metadata": {
    "hidden": true
   },
   "source": [
    "The 70 predefined RDKit descriptors are available in the file \"RDKIT_Descriptors.txt\".\n",
    "\n",
    "These descriptors have been found to be important for describing the six enpdoints."
   ]
  },
  {
   "cell_type": "code",
   "execution_count": 13,
   "metadata": {
    "hidden": true
   },
   "outputs": [],
   "source": [
    "with open(\"RDKIT_Descriptors.txt\", \"r\") as f:\n",
    "    Descriptors = []\n",
    "    for descriptor in f.readlines():\n",
    "        items = descriptor.rstrip('\\n').rstrip(',').strip(\"''\")\n",
    "        Descriptors.append(items)"
   ]
  },
  {
   "cell_type": "markdown",
   "metadata": {
    "hidden": true
   },
   "source": [
    "Checks if the 70 descriptors are used and the number of descriptors used is displayed."
   ]
  },
  {
   "cell_type": "code",
   "execution_count": 14,
   "metadata": {
    "hidden": true
   },
   "outputs": [
    {
     "name": "stdout",
     "output_type": "stream",
     "text": [
      "70 descriptors are used.\n"
     ]
    }
   ],
   "source": [
    "print (str(len(Descriptors)) + ' descriptors are used.')"
   ]
  },
  {
   "cell_type": "markdown",
   "metadata": {
    "hidden": true
   },
   "source": [
    "#### Training set"
   ]
  },
  {
   "cell_type": "markdown",
   "metadata": {
    "hidden": true
   },
   "source": [
    "70 descriptors are calculated for each compound within the standardised training set. \n",
    "\n",
    "The results and the classification values are saved as a list."
   ]
  },
  {
   "cell_type": "code",
   "execution_count": 15,
   "metadata": {
    "hidden": true
   },
   "outputs": [],
   "source": [
    "calculator = MoleculeDescriptors.MolecularDescriptorCalculator(Descriptors)\n",
    "descriptors = []\n",
    "activities = []\n",
    "\n",
    "for mol in standardised_molecules:\n",
    "\n",
    "    desc_np = np.asarray(calculator.CalcDescriptors(mol))\n",
    "\n",
    "    descriptors.append(desc_np)\n",
    "\n",
    "    activities.append(int(mol.GetProp(\"Classification\")))"
   ]
  },
  {
   "cell_type": "markdown",
   "metadata": {
    "hidden": true
   },
   "source": [
    "#### Test set "
   ]
  },
  {
   "cell_type": "markdown",
   "metadata": {
    "hidden": true
   },
   "source": [
    "70 descriptors are calculated for each compound within the standardised test set. \n",
    "\n",
    "The results and the classification values are saved as a list."
   ]
  },
  {
   "cell_type": "code",
   "execution_count": 16,
   "metadata": {
    "hidden": true
   },
   "outputs": [],
   "source": [
    "calculator_test = MoleculeDescriptors.MolecularDescriptorCalculator(Descriptors)\n",
    "descriptors_test = []\n",
    "activities_test = []\n",
    "\n",
    "for mol in standardised_test_molecules:\n",
    "    desc_np = np.asarray(calculator_test.CalcDescriptors(mol))\n",
    "    descriptors_test.append(desc_np)\n",
    "    activities_test.append(int(mol.GetProp(\"Classification\")))"
   ]
  },
  {
   "cell_type": "markdown",
   "metadata": {
    "hidden": true
   },
   "source": [
    "### Check Descriptor Calculation"
   ]
  },
  {
   "cell_type": "markdown",
   "metadata": {
    "hidden": true
   },
   "source": [
    "#### Training set"
   ]
  },
  {
   "cell_type": "markdown",
   "metadata": {
    "hidden": true
   },
   "source": [
    "The results of the descriptor calculation and the classification values are displayed for the standardised training set."
   ]
  },
  {
   "cell_type": "code",
   "execution_count": 17,
   "metadata": {
    "hidden": true
   },
   "outputs": [
    {
     "name": "stdout",
     "output_type": "stream",
     "text": [
      "The descriptors for 1321 compounds could be calculated.\n",
      "The activities of 1321 compounds could be read.\n"
     ]
    }
   ],
   "source": [
    "print('The descriptors for ' + str(len(descriptors)) + ' compounds could be calculated.')\n",
    "print('The activities of ' + str(len(activities)) + ' compounds could be read.') "
   ]
  },
  {
   "cell_type": "markdown",
   "metadata": {
    "hidden": true
   },
   "source": [
    "#### Test set"
   ]
  },
  {
   "cell_type": "markdown",
   "metadata": {
    "hidden": true
   },
   "source": [
    "The results of the descriptor calculation and the classification values are displayed for the standardised test set."
   ]
  },
  {
   "cell_type": "code",
   "execution_count": 18,
   "metadata": {
    "hidden": true
   },
   "outputs": [
    {
     "name": "stdout",
     "output_type": "stream",
     "text": [
      "The descriptors for 10 compounds could be calculated.\n",
      "The activities of 10 compounds could be read.\n"
     ]
    }
   ],
   "source": [
    "print('The descriptors for ' + str(len(descriptors_test)) + ' compounds could be calculated.')\n",
    "print('The activities of ' + str(len(activities_test)) + ' compounds could be read.')"
   ]
  },
  {
   "cell_type": "markdown",
   "metadata": {
    "hidden": true
   },
   "source": [
    "### Count actives / inactives"
   ]
  },
  {
   "cell_type": "markdown",
   "metadata": {
    "hidden": true
   },
   "source": [
    "#### Training set"
   ]
  },
  {
   "cell_type": "markdown",
   "metadata": {
    "hidden": true
   },
   "source": [
    "The number of inhibitors, non-inhibitors as well as the total amount of compounds within the standardised training set are displayed."
   ]
  },
  {
   "cell_type": "code",
   "execution_count": 19,
   "metadata": {
    "hidden": true
   },
   "outputs": [
    {
     "name": "stdout",
     "output_type": "stream",
     "text": [
      "The training set includes 221 inhibitors and 1100 non-inhibitors.\n",
      "The total amount of compounds in the training set is 1321 .\n"
     ]
    }
   ],
   "source": [
    "active = 0\n",
    "inactive = 0\n",
    "for activity in activities:\n",
    "    if activity == 1:\n",
    "        active += 1\n",
    "    elif activity == 0:\n",
    "        inactive += 1\n",
    "print('The training set includes', active, 'inhibitors and', inactive, 'non-inhibitors.')\n",
    "print('The total amount of compounds in the training set is', active + inactive, '.')"
   ]
  },
  {
   "cell_type": "markdown",
   "metadata": {
    "hidden": true
   },
   "source": [
    "#### Test set "
   ]
  },
  {
   "cell_type": "markdown",
   "metadata": {
    "hidden": true
   },
   "source": [
    "The number of inhibitors, non-inhibitors as well as the total amount of compounds within the standardised test set are displayed."
   ]
  },
  {
   "cell_type": "code",
   "execution_count": 20,
   "metadata": {
    "hidden": true
   },
   "outputs": [
    {
     "name": "stdout",
     "output_type": "stream",
     "text": [
      "The training set includes 3 inhibitors and 7 non-inhibitors.\n",
      "The total amount of compounds in the training set is 10 .\n"
     ]
    }
   ],
   "source": [
    "active_test = 0\n",
    "inactive_test = 0\n",
    "for activity_test in activities_test:\n",
    "    if activity_test == 1:\n",
    "        active_test += 1\n",
    "    elif activity_test == 0:\n",
    "        inactive_test += 1\n",
    "print('The training set includes', active_test, 'inhibitors and', inactive_test, 'non-inhibitors.')\n",
    "print('The total amount of compounds in the training set is', active_test + inactive_test, '.')"
   ]
  },
  {
   "cell_type": "markdown",
   "metadata": {
    "hidden": true
   },
   "source": [
    "#### Change NaN to 0.0"
   ]
  },
  {
   "cell_type": "markdown",
   "metadata": {
    "hidden": true
   },
   "source": [
    "NaN values are replaced with zeros for avoiding potential errors."
   ]
  },
  {
   "cell_type": "code",
   "execution_count": 21,
   "metadata": {
    "hidden": true
   },
   "outputs": [
    {
     "data": {
      "text/plain": [
       "(1321, 70)"
      ]
     },
     "execution_count": 21,
     "metadata": {},
     "output_type": "execute_result"
    }
   ],
   "source": [
    "df_descriptors = pd.DataFrame(descriptors)\n",
    "zeros = df_descriptors.fillna(0.0)\n",
    "descriptors = np.array(zeros)\n",
    "descriptors.shape"
   ]
  },
  {
   "cell_type": "markdown",
   "metadata": {},
   "source": [
    "## Step 3: Applicability Domain"
   ]
  },
  {
   "cell_type": "markdown",
   "metadata": {},
   "source": [
    "Local outlier factor (LOF) as described by Sahigara and coworkers is used for the calculation of the applicability domain (Sahigara F, Ballabio D, Todeschini R, Consonni V (2013) Defining a novel k-nearest neighbours approach to assess the applicability domain of a QSAR model for reliable predictions. J Cheminform 5:27. https://doi.org/10.1186/1758-2946-5-27) and was implemented in the scikit-learn Python library (version 0.24.2). \n",
    "\n",
    "In this approach the local densities of the nearest neighbors of a compound are compared to its local densities, and a factor from 0 to 1 is assigned. In brief, if the local density is greater or equal to its surrounding, a compound is considered inside the domain, otherwise it is considered outside the domain. "
   ]
  },
  {
   "cell_type": "code",
   "execution_count": 22,
   "metadata": {},
   "outputs": [],
   "source": [
    "import matplotlib\n",
    "import matplotlib.pyplot as plt\n",
    "from sklearn.preprocessing import MinMaxScaler\n",
    "from sklearn.neighbors import LocalOutlierFactor\n",
    "from sklearn.preprocessing import StandardScaler\n",
    "from sklearn.decomposition import PCA"
   ]
  },
  {
   "cell_type": "markdown",
   "metadata": {},
   "source": [
    "### Verify that the test set is within the chemical space of the model*"
   ]
  },
  {
   "cell_type": "markdown",
   "metadata": {},
   "source": [
    "You can select the test set for the AD by changing the file name at the variable “Test_Data\". "
   ]
  },
  {
   "cell_type": "code",
   "execution_count": 23,
   "metadata": {},
   "outputs": [],
   "source": [
    "Test_Data = \"data/BSEP_ChEMBL28.sdf\""
   ]
  },
  {
   "cell_type": "markdown",
   "metadata": {},
   "source": [
    "The AD is calculated and displayed as a depiction for a general representation if the test set is inside or outside of the AD. \n",
    "\n",
    "Red line = Applicability domain\n",
    "\n",
    "White dots = Test set compounds\n",
    "\n",
    "Blue colour = Frontier-delimited subspace"
   ]
  },
  {
   "cell_type": "code",
   "execution_count": 24,
   "metadata": {
    "scrolled": true
   },
   "outputs": [
    {
     "data": {
      "text/plain": [
       "Text(0.5, 0, 'PCA Dimension 0')"
      ]
     },
     "execution_count": 24,
     "metadata": {},
     "output_type": "execute_result"
    },
    {
     "data": {
      "image/png": "[encoded data removed]",
      "text/plain": [
       "<Figure size 432x288 with 1 Axes>"
      ]
     },
     "metadata": {
      "needs_background": "light"
     },
     "output_type": "display_data"
    }
   ],
   "source": [
    "scaler = MinMaxScaler()\n",
    "iso_map = PCA(n_components=2)\n",
    "model = LocalOutlierFactor(n_neighbors=5, novelty=True, contamination=0.1, metric='euclidean')\n",
    "\n",
    "fps = []\n",
    "thresholds = []\n",
    "k = 15\n",
    "stand = Standardization()\n",
    "\n",
    "scaler.fit(descriptors)\n",
    "stand_desc = scaler.transform(descriptors)\n",
    "iso_map.fit(stand_desc)\n",
    "train_iso = iso_map.transform(stand_desc)\n",
    "model.fit(train_iso)\n",
    "\n",
    "tests = []\n",
    "test_stand_desc = scaler.transform(descriptors_test)\n",
    "test_iso = iso_map.transform(test_stand_desc)\n",
    "#tests.append([test_iso[0][0], test_iso[0][1]])\n",
    "iso_ad_pred = []\n",
    "for tp in test_iso:\n",
    "    iso_ad_pred.append(model.predict([tp])[0])\n",
    "    tests.append([tp[0], tp[1]])\n",
    "\n",
    "\n",
    "tests = np.array(tests)\n",
    "xx, yy = np.meshgrid(np.linspace(-5, 5, 500), np.linspace(-5, 5, 500))\n",
    "Z = model.decision_function(np.c_[xx.ravel(), yy.ravel()])\n",
    "Z = Z.reshape(xx.shape)\n",
    "\n",
    "plt.figure()\n",
    "plt.title(\"Applicability Domain Assessment with LOF\")\n",
    "plt.contourf(xx, yy, Z, levels=np.linspace(Z.min(), 0, 7), cmap=plt.cm.PuBu)\n",
    "a = plt.contour(xx, yy, Z, levels=[0], linewidths=2, colors='darkred')\n",
    "plt.contourf(xx, yy, Z, levels=[0, Z.max()], colors='palevioletred')\n",
    "s = 40\n",
    "b2 = plt.scatter(tests[:, 0], tests[:, 1], c='white', s=s,edgecolors='k', zorder=3)\n",
    "plt.axis('tight')\n",
    "plt.xlim((-5, 5))\n",
    "plt.ylim((-5, 5))\n",
    "plt.legend([a.collections[0],b2],\n",
    "  [\"Applicability Domain\",\n",
    "   \"Test Set Components\"],\n",
    "  loc=\"upper left\",\n",
    "  prop=matplotlib.font_manager.FontProperties(size=11))\n",
    "plt.ylabel(\"PCA Dimension 1\")\n",
    "plt.xlabel(\"PCA Dimension 0\")"
   ]
  },
  {
   "cell_type": "markdown",
   "metadata": {},
   "source": [
    "The test set is checked if it is within the chemical space of the model and an additional column named \"LOF\" is created containing \"1\" for inlier and \"-1\" for outlier."
   ]
  },
  {
   "cell_type": "code",
   "execution_count": 25,
   "metadata": {
    "scrolled": true
   },
   "outputs": [
    {
     "name": "stdout",
     "output_type": "stream",
     "text": [
      "1 compounds have been identified as outliers in the Test Set using LOF.\n"
     ]
    },
    {
     "data": {
      "text/html": [
       "<img data-content=\"rdkit/molecule\" src=\"data:image/png;base64,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\" alt=\"Mol\"/>"
      ],
      "text/plain": [
       "<IPython.core.display.HTML object>"
      ]
     },
     "metadata": {},
     "output_type": "display_data"
    }
   ],
   "source": [
    "from IPython.core.display import display, HTML\n",
    "\n",
    "# if lof equal to 1, then it is considered as an inlier; if it is -1, then it is an outlier.\n",
    "df_descriptors_test = pd.DataFrame(descriptors_test, columns = Descriptors)\n",
    "df_descriptors_test['LOF'] = iso_ad_pred\n",
    "Test_Outliers = df_descriptors_test[df_descriptors_test['LOF'] == -1]\n",
    "New_Descriptors_test = df_descriptors_test[df_descriptors_test['LOF'] == 1]\n",
    "\n",
    "# Read data\n",
    "df_Test_Data = PandasTools.LoadSDF(Test_Data)\n",
    "\n",
    "# Search via index outliers \n",
    "Outlier_Compounds = df_Test_Data['ROMol'].loc[Test_Outliers.index]\n",
    "df_Outlier_Compounds = pd.DataFrame(Outlier_Compounds)\n",
    "print(str(len(Test_Outliers)) + ' compounds have been identified as outliers in the Test Set using LOF.')\n",
    "\n",
    "for index, row in df_Outlier_Compounds.iterrows():\n",
    "    display(HTML(str(row['ROMol'])))"
   ]
  },
  {
   "cell_type": "markdown",
   "metadata": {},
   "source": [
    " A SDF-file is generated namely:” Outlier_Compounds.sdf” which includes all compounds that are out of domain."
   ]
  },
  {
   "cell_type": "code",
   "execution_count": null,
   "metadata": {},
   "outputs": [],
   "source": [
    "PandasTools.WriteSDF(df_Outlier_Compounds,\"results/BSEP_Outlier_Compounds.sdf\",properties=list(df_Outlier_Compounds.columns))"
   ]
  },
  {
   "cell_type": "markdown",
   "metadata": {},
   "source": [
    "## Step 4: Model Generation & Evaluation"
   ]
  },
  {
   "cell_type": "markdown",
   "metadata": {},
   "source": [
    "Four different classifiers are used for model generation:\n",
    "\n",
    "    • Logistic Regression (LR)\n",
    "    • Support Vector Machine (SVM)\n",
    "    • Random Forest (RF)\n",
    "    • k-nearest neighbor (KNN)\n",
    "\n",
    "The scikit-learn Python library (version 0.24.2) implementations are used to train binary classification models for the six mentioned endpoints."
   ]
  },
  {
   "cell_type": "markdown",
   "metadata": {},
   "source": [
    "### Please add the name of the used training set*"
   ]
  },
  {
   "cell_type": "markdown",
   "metadata": {},
   "source": [
    "You can select the dataset for the creation of the ML models by changing the file name at the variable “Train_Stand_SDF”."
   ]
  },
  {
   "cell_type": "code",
   "execution_count": 3,
   "metadata": {
    "scrolled": true
   },
   "outputs": [],
   "source": [
    "Train_Stand_SDF = \"data/BSEP_standardised_train_molecules.sdf\"\n",
    "df_Data = PandasTools.LoadSDF(Train_Stand_SDF)"
   ]
  },
  {
   "cell_type": "markdown",
   "metadata": {},
   "source": [
    "### Please add the name of the used test set*"
   ]
  },
  {
   "cell_type": "markdown",
   "metadata": {},
   "source": [
    "You can select the dataset for testing the ML models by changing the file name at the variable “Test_Stand_SDF”."
   ]
  },
  {
   "cell_type": "code",
   "execution_count": 2,
   "metadata": {},
   "outputs": [],
   "source": [
    "Test_Stand_SDF = \"data/BSEP_standardised_test_molecules.sdf\"\n",
    "df_Test_Data = PandasTools.LoadSDF(Test_Stand_SDF)"
   ]
  },
  {
   "cell_type": "markdown",
   "metadata": {},
   "source": [
    "### 1) Logisitic Regression (LR)"
   ]
  },
  {
   "cell_type": "code",
   "execution_count": 38,
   "metadata": {},
   "outputs": [],
   "source": [
    "from sklearn.linear_model import LogisticRegression\n",
    "from sklearn.model_selection import GridSearchCV\n",
    "from sklearn.metrics import make_scorer, balanced_accuracy_score\n",
    "from sklearn.metrics import roc_auc_score, confusion_matrix\n",
    "from sklearn.metrics import roc_curve, auc\n",
    "from sklearn.model_selection import cross_val_score"
   ]
  },
  {
   "cell_type": "markdown",
   "metadata": {},
   "source": [
    "A LR model is created with pre-selected hyperparameters and fitted on the training set."
   ]
  },
  {
   "cell_type": "code",
   "execution_count": 29,
   "metadata": {
    "scrolled": true
   },
   "outputs": [
    {
     "data": {
      "text/plain": [
       "LogisticRegression(max_iter=10000, solver='saga')"
      ]
     },
     "execution_count": 29,
     "metadata": {},
     "output_type": "execute_result"
    }
   ],
   "source": [
    "lr_clf = LogisticRegression(solver='saga', max_iter=10000)\n",
    "lr_clf.fit(descriptors,activities)"
   ]
  },
  {
   "cell_type": "markdown",
   "metadata": {},
   "source": [
    "A pickle-file is generated namely:” model_LR.pkl” which includes the model. \n",
    "\n",
    "Pickle in Python is used in serializing and deserializing a Python object structure."
   ]
  },
  {
   "cell_type": "code",
   "execution_count": null,
   "metadata": {},
   "outputs": [],
   "source": [
    "import pickle\n",
    "\n",
    "filename = 'results/BSEP_model_LR.pkl'\n",
    "pickle.dump(lr_clf, open(filename, 'wb'))"
   ]
  },
  {
   "cell_type": "markdown",
   "metadata": {},
   "source": [
    "#### LR -  10-CV Training Set"
   ]
  },
  {
   "cell_type": "code",
   "execution_count": 39,
   "metadata": {},
   "outputs": [],
   "source": [
    "from sklearn import metrics\n",
    "from sklearn.model_selection import cross_val_score\n",
    "from sklearn.metrics import accuracy_score\n",
    "from sklearn.metrics import matthews_corrcoef\n",
    "from sklearn.metrics import recall_score\n",
    "from sklearn.metrics import f1_score\n",
    "from sklearn.metrics import precision_score"
   ]
  },
  {
   "cell_type": "markdown",
   "metadata": {},
   "source": [
    "The performance of the models is evaluated using a 10-fold cross-validation, and following statistical metrics are used:\n",
    "\n",
    "    • Accuracy Score\n",
    "    • Sensitivity Score\n",
    "    • Specificity Score\n",
    "    • Balanced Accuracy (BA) Score\n",
    "    • F1 Score\n",
    "    • Area Under the Curve (AUC) Score\n",
    "    • Precision Score\n",
    "    • Matthews Correlation Coefficient (MCC) Score\n"
   ]
  },
  {
   "cell_type": "code",
   "execution_count": null,
   "metadata": {},
   "outputs": [],
   "source": [
    "accuracy_score_cv = cross_val_score(lr_clf, descriptors, activities, scoring='accuracy', cv=10, n_jobs=-1, error_score='raise')\n",
    "sensitivity_score_cv = cross_val_score(lr_clf, descriptors, activities, scoring='recall', cv=10, n_jobs=-1, error_score='raise')\n",
    "specificity_cv = make_scorer(recall_score, pos_label=0)\n",
    "specificity_score_cv = cross_val_score(lr_clf, descriptors, activities, scoring=specificity_cv, cv=10, n_jobs=-1, error_score='raise')\n",
    "balanced_accuracy_score_cv = cross_val_score(lr_clf, descriptors, activities, scoring='balanced_accuracy', cv=10, n_jobs=-1, error_score='raise' )"
   ]
  },
  {
   "cell_type": "code",
   "execution_count": null,
   "metadata": {},
   "outputs": [],
   "source": [
    "#recall_score = cross_val_score(ANOVA_svm_model, descriptors_fs, activities, scoring='recall', cv=10, n_jobs=-1, error_score='raise')\n",
    "f1_score_cv = cross_val_score(lr_clf, descriptors, activities, scoring='f1', cv=10, n_jobs=-1, error_score='raise')\n",
    "auc_cv = cross_val_score(lr_clf, descriptors, activities, scoring='roc_auc', cv=10, n_jobs=-1, error_score='raise')\n",
    "precision_score_cv = cross_val_score(lr_clf, descriptors, activities, scoring='precision', cv=10, n_jobs=-1, error_score='raise')\n",
    "matthews_corrcoef_cv = make_scorer(matthews_corrcoef)\n",
    "matthews_corrcoef_score_cv = cross_val_score(lr_clf, descriptors, activities, scoring=matthews_corrcoef_cv, cv=10, n_jobs=-1, error_score='raise')"
   ]
  },
  {
   "cell_type": "code",
   "execution_count": null,
   "metadata": {},
   "outputs": [],
   "source": [
    "acc_lr1 = 'Accuracy: %.3f (%.3f)' % (accuracy_score_cv.mean(), accuracy_score_cv.std())\n",
    "sen_lr1 = 'Sensitivity: %.3f (%.3f)' % (sensitivity_score_cv.mean(), sensitivity_score_cv.std())\n",
    "spec_lr1 = 'Specificity: %.3f (%.3f)' % (specificity_score_cv.mean(), specificity_score_cv.std())\n",
    "ba_lr1 = 'Balanced_Accuracy: %.3f (%.3f)' % (balanced_accuracy_score_cv.mean(), balanced_accuracy_score_cv.std())\n",
    "f1_lr1 = 'F1_score %.3f (%.3f)' % (f1_score_cv.mean(), f1_score_cv.std())\n",
    "auc_lr1 = 'AUC %.3f (%.3f)' % (auc_cv.mean(), auc_cv.std())\n",
    "prec_lr1 = 'Precision %.3f (%.3f)' % (precision_score_cv.mean(), precision_score_cv.std())\n",
    "mcc_lr1 = 'Matthews_corrcoef: %.3f (%.3f)' % (matthews_corrcoef_score_cv.mean(), matthews_corrcoef_score_cv.std())"
   ]
  },
  {
   "cell_type": "markdown",
   "metadata": {},
   "source": [
    "Interactive dropdown field is generated, and the statistical metric results of interest can be displayed one by one."
   ]
  },
  {
   "cell_type": "code",
   "execution_count": null,
   "metadata": {
    "scrolled": true
   },
   "outputs": [],
   "source": [
    "import ipywidgets as widgets\n",
    "\n",
    "def dropdown(change):\n",
    "    print(change.new)    \n",
    "    \n",
    "Buttons = widgets.Dropdown(\n",
    "    options = [['Accuracy',acc_lr1], ['Sensitivity',sen_lr1], ['Specificity',spec_lr1], ['Balanced Accuracy',ba_lr1],['F1_score',f1_lr1], ['AUC',auc_lr1], ['Precision',prec_lr1], ['MCC',mcc_lr1]],\n",
    "    description= 'Choose one:',\n",
    "    value = None,\n",
    "    disabled=False,\n",
    "    indent=False\n",
    ")\n",
    "\n",
    "Buttons.observe(dropdown, names='value')\n",
    "display(Buttons)"
   ]
  },
  {
   "cell_type": "markdown",
   "metadata": {},
   "source": [
    "#### Incorrectly Predicted Compounds"
   ]
  },
  {
   "cell_type": "markdown",
   "metadata": {},
   "source": [
    "Incorrectly predicted compounds are indentified and displayed."
   ]
  },
  {
   "cell_type": "code",
   "execution_count": null,
   "metadata": {
    "scrolled": true
   },
   "outputs": [],
   "source": [
    "from IPython.core.display import display, HTML\n",
    "\n",
    "log_predictions = lr_clf.predict(descriptors_test)\n",
    "indices = [i for i in range(len(activities_test)) if activities_test[i] != log_predictions[i]]\n",
    "wrong_predictions_lr = df_Test_Data.iloc[indices,:]\n",
    "wrong_predicted_compounds = wrong_predictions_lr.index.tolist()\n",
    "print(str(len((wrong_predicted_compounds))) + ' compounds have been predicted incorrectly.')\n",
    "compounds_lr_wrong =  pd.DataFrame(wrong_predictions_lr['ROMol'])\n",
    "\n",
    "for index, row in compounds_lr_wrong.iterrows():\n",
    "    display(HTML(str(row['ROMol'])))"
   ]
  },
  {
   "cell_type": "markdown",
   "metadata": {},
   "source": [
    "#### Save Incorrectly Predicted Compounds"
   ]
  },
  {
   "cell_type": "markdown",
   "metadata": {},
   "source": [
    " A SDF-file is generated namely:” WP_LR_Compounds.sdf” which includes all compounds that are predicted incorrectly."
   ]
  },
  {
   "cell_type": "code",
   "execution_count": null,
   "metadata": {},
   "outputs": [],
   "source": [
    "PandasTools.WriteSDF(wrong_predictions_lr,\"data/BSEP_WP_LR_Compounds.sdf\",properties=list(wrong_predictions_lr.columns))"
   ]
  },
  {
   "cell_type": "markdown",
   "metadata": {},
   "source": [
    "#### Logistic Regression -  Evaluation Test Set"
   ]
  },
  {
   "cell_type": "markdown",
   "metadata": {},
   "source": [
    "The LR model is used for the prediction of the test set. "
   ]
  },
  {
   "cell_type": "code",
   "execution_count": null,
   "metadata": {},
   "outputs": [],
   "source": [
    "lr_predict = lr_clf.predict(descriptors_test)"
   ]
  },
  {
   "cell_type": "markdown",
   "metadata": {},
   "source": [
    "The performance of the models is tested , and following statistical metrics are used:\n",
    "\n",
    "    • Accuracy Score\n",
    "    • Sensitivity Score\n",
    "    • Specificity Score\n",
    "    • Balanced Accuracy (BA) Score\n",
    "    • F1 Score\n",
    "    • Area Under the Curve (AUC) Score\n",
    "    • Precision Score\n",
    "    • Matthews Correlation Coefficient (MCC) Score\n"
   ]
  },
  {
   "cell_type": "code",
   "execution_count": null,
   "metadata": {},
   "outputs": [],
   "source": [
    "acc_lr2 = 'Accuracy_score: %.3f' % accuracy_score(np.asarray(activities_test), lr_predict)\n",
    "sen_lr2 = 'Sensitivity: %.3f ' % recall_score(np.asarray(activities_test), lr_predict)\n",
    "spec_lr2 = 'Specificity: %.3f ' % recall_score(np.asarray(activities_test), lr_predict, pos_label=0)\n",
    "ba_lr2 = 'Balanced_accuracy_score: %.3f' % balanced_accuracy_score(np.asarray(activities_test), lr_predict)\n",
    "f1_lr2 = 'F1_score: %.3f' %  f1_score(np.asarray(activities_test), lr_predict)\n",
    "auc_lr2 = 'AUC %.3f' % (roc_auc_score(np.asarray(activities_test), lr_predict))\n",
    "prec_lr2 = 'Precision_score: %.3f' % precision_score(np.asarray(activities_test), lr_predict)\n",
    "mcc_lr2 = 'Matthews_corrcoef: %.3f' % matthews_corrcoef(np.asarray(activities_test), lr_predict)\n",
    "rec_lr2 = 'Recall_score: %.3f' % recall_score(np.asarray(activities_test), lr_predict)"
   ]
  },
  {
   "cell_type": "markdown",
   "metadata": {},
   "source": [
    "Interactive dropdown field is generated, and the statistical metric results of interest can be displayed one by one."
   ]
  },
  {
   "cell_type": "code",
   "execution_count": null,
   "metadata": {},
   "outputs": [],
   "source": [
    "import ipywidgets as widgets\n",
    "\n",
    "def dropdown(change):\n",
    "    print(change.new)    \n",
    "    \n",
    "Buttons = widgets.Dropdown(\n",
    "    options = [['Accuracy',acc_lr2], ['Sensitivity',sen_lr2], ['Specificity',spec_lr2], ['Balanced Accuracy',ba_lr2],['F1_score',f1_lr2], ['AUC',auc_lr2], ['Precision',prec_lr2], ['MCC',mcc_lr2], ['Recall',rec_lr2]],\n",
    "    description= 'Choose one:',\n",
    "    value = None,\n",
    "    disabled=False,\n",
    "    indent=False\n",
    ")\n",
    "\n",
    "Buttons.observe(dropdown, names='value')\n",
    "display(Buttons)"
   ]
  },
  {
   "cell_type": "markdown",
   "metadata": {},
   "source": [
    "The resulted prediction is compared with the classification values of the test set and an additional column named \"Prediction Comparison\" is created. This column contains \"Right\" if the prediction matches the classification value or \"Wrong\" if not.\n",
    "\n",
    "In addition a column named \"Domain\" is created. This column indicates if the compounds within the test set are within the AD."
   ]
  },
  {
   "cell_type": "code",
   "execution_count": null,
   "metadata": {},
   "outputs": [],
   "source": [
    "df_Test = df_Test_Data\n",
    "df_Test[\"Prediction\"] = lr_predict\n",
    "df_Test[\"Prediction Comparison\"] = np.where(pd.to_numeric(df_Test[\"Classification\"]) == df_Test[\"Prediction\"], \"Right\", \"Wrong\")\n",
    "df_Test[\"Domain\"] = df_descriptors_test[\"LOF\"]\n",
    "df_Test[\"Domain\"] = np.where(df_Test.Domain.values == 1, \"In\", \"Out\")\n",
    "df_LR_Test = df_Test\n",
    "print(df_LR_Test)"
   ]
  },
  {
   "cell_type": "markdown",
   "metadata": {},
   "source": [
    "A SDF-file is generated namely:” LR_Test_Prediction.sdf” which includes the information above mentioned."
   ]
  },
  {
   "cell_type": "code",
   "execution_count": null,
   "metadata": {},
   "outputs": [],
   "source": [
    "PandasTools.WriteSDF(df_LR_Test,\"results/BSEP_LR_Test_Prediction.sdf\",properties=list(df_LR_Test.columns))\n",
    "df_LR_Test.to_csv(\"results/BSEP_LR_Test_Prediction.csv\")"
   ]
  },
  {
   "cell_type": "markdown",
   "metadata": {},
   "source": [
    "### 2) Support Vector Machine (SVM)"
   ]
  },
  {
   "cell_type": "code",
   "execution_count": 31,
   "metadata": {},
   "outputs": [],
   "source": [
    "from sklearn import svm"
   ]
  },
  {
   "cell_type": "markdown",
   "metadata": {},
   "source": [
    "A SVM model is created with pre-selected hyperparameters and fitted on the training set."
   ]
  },
  {
   "cell_type": "code",
   "execution_count": 32,
   "metadata": {},
   "outputs": [
    {
     "data": {
      "text/plain": [
       "SVC(class_weight='balanced', kernel='linear')"
      ]
     },
     "execution_count": 32,
     "metadata": {},
     "output_type": "execute_result"
    }
   ],
   "source": [
    "svm_clf = svm.SVC(class_weight='balanced', C= 1.0, kernel= 'linear')\n",
    "svm_clf.fit(descriptors,activities)"
   ]
  },
  {
   "cell_type": "markdown",
   "metadata": {},
   "source": [
    "A pickle-file is generated namely:” model_SVM.pkl” which includes the model. \n",
    "\n",
    "Pickle in Python is used in serializing and deserializing a Python object structure."
   ]
  },
  {
   "cell_type": "code",
   "execution_count": null,
   "metadata": {},
   "outputs": [],
   "source": [
    "import pickle\n",
    "\n",
    "filename = 'results/BSEP_model_SVM.pkl'\n",
    "pickle.dump(svm_clf, open(filename, 'wb'))"
   ]
  },
  {
   "cell_type": "markdown",
   "metadata": {},
   "source": [
    "#### SVM  -  10-CV Training Set"
   ]
  },
  {
   "cell_type": "markdown",
   "metadata": {},
   "source": [
    "The performance of the models is evaluated using a 10-fold cross-validation, and following statistical metrics are used:\n",
    "\n",
    "    • Accuracy Score\n",
    "    • Sensitivity Score\n",
    "    • Specificity Score\n",
    "    • Balanced Accuracy (BA) Score\n",
    "    • F1 Score\n",
    "    • Area Under the Curve (AUC) Score\n",
    "    • Precision Score\n",
    "    • Matthews Correlation Coefficient (MCC) Score"
   ]
  },
  {
   "cell_type": "code",
   "execution_count": 40,
   "metadata": {},
   "outputs": [],
   "source": [
    "accuracy_score_cv = cross_val_score(svm_clf, descriptors, activities, scoring='accuracy', cv=10, n_jobs=-1, error_score='raise')\n",
    "sensitivity_score_cv = cross_val_score(svm_clf, descriptors, activities, scoring='recall', cv=10, n_jobs=-1, error_score='raise')\n",
    "specificity_cv = make_scorer(recall_score, pos_label=0)\n",
    "specificity_score_cv = cross_val_score(svm_clf, descriptors, activities, scoring=specificity_cv, cv=10, n_jobs=-1, error_score='raise')\n",
    "balanced_accuracy_score_cv = cross_val_score(svm_clf, descriptors, activities, scoring='balanced_accuracy', cv=10, n_jobs=-1, error_score='raise' )"
   ]
  },
  {
   "cell_type": "code",
   "execution_count": 41,
   "metadata": {},
   "outputs": [],
   "source": [
    "f1_score_cv = cross_val_score(svm_clf, descriptors, activities, scoring='f1', cv=10, n_jobs=-1, error_score='raise')\n",
    "auc_cv = cross_val_score(svm_clf, descriptors, activities, scoring='roc_auc', cv=10, n_jobs=-1, error_score='raise')\n",
    "precision_score_cv = cross_val_score(svm_clf, descriptors, activities, scoring='precision', cv=10, n_jobs=-1, error_score='raise')\n",
    "matthews_corrcoef_cv = make_scorer(matthews_corrcoef)\n",
    "matthews_corrcoef_score_cv = cross_val_score(svm_clf, descriptors, activities, scoring=matthews_corrcoef_cv, cv=10, n_jobs=-1, error_score='raise')"
   ]
  },
  {
   "cell_type": "code",
   "execution_count": 42,
   "metadata": {},
   "outputs": [],
   "source": [
    "acc_svm1 = 'Accuracy: %.3f (%.3f)' % (accuracy_score_cv.mean(), accuracy_score_cv.std())\n",
    "sen_svm1 = 'Sensitivity: %.3f (%.3f)' % (sensitivity_score_cv.mean(), sensitivity_score_cv.std())\n",
    "spec_svm1 = 'Specificity: %.3f (%.3f)' % (specificity_score_cv.mean(), specificity_score_cv.std())\n",
    "ba_svm1 = 'Balanced_Accuracy: %.3f (%.3f)' % (balanced_accuracy_score_cv.mean(), balanced_accuracy_score_cv.std())\n",
    "f1_svm1 = 'F1_score %.3f (%.3f)' % (f1_score_cv.mean(), f1_score_cv.std())\n",
    "auc_svm1 = 'AUC %.3f (%.3f)' % (auc_cv.mean(), auc_cv.std())\n",
    "prec_svm1 = 'Precision %.3f (%.3f)' % (precision_score_cv.mean(), precision_score_cv.std())\n",
    "mcc_svm1 = 'Matthews_corrcoef: %.3f (%.3f)' % (matthews_corrcoef_score_cv.mean(), matthews_corrcoef_score_cv.std())"
   ]
  },
  {
   "cell_type": "markdown",
   "metadata": {},
   "source": [
    "Interactive dropdown field is generated, and the statistical metric results of interest can be displayed one by one."
   ]
  },
  {
   "cell_type": "code",
   "execution_count": 110,
   "metadata": {},
   "outputs": [
    {
     "data": {
      "application/vnd.jupyter.widget-view+json": {
       "model_id": "e968762f362246039679d7231e563da3",
       "version_major": 2,
       "version_minor": 0
      },
      "text/plain": [
       "Dropdown(description='Choose one:', options=(['Accuracy', 'Accuracy: 0.789 (0.145)'], ['Sensitivity', 'Sensiti…"
      ]
     },
     "metadata": {},
     "output_type": "display_data"
    }
   ],
   "source": [
    "import ipywidgets as widgets\n",
    "\n",
    "def dropdown(change):\n",
    "    print(change.new)    \n",
    "    \n",
    "Buttons = widgets.Dropdown(\n",
    "    options = [['Accuracy',acc_svm1], ['Sensitivity',sen_svm1], ['Specificity',spec_svm1], ['Balanced Accuracy',ba_svm1],['F1_score',f1_svm1], ['AUC',auc_svm1], ['Precision',prec_svm1], ['MCC',mcc_svm1]],\n",
    "    description= 'Choose one:',\n",
    "    value = None,\n",
    "    disabled=False,\n",
    "    indent=False\n",
    ")\n",
    "\n",
    "Buttons.observe(dropdown, names='value')\n",
    "display(Buttons)"
   ]
  },
  {
   "cell_type": "markdown",
   "metadata": {},
   "source": [
    "#### Incorrectly Predicted Compounds"
   ]
  },
  {
   "cell_type": "markdown",
   "metadata": {},
   "source": [
    "Incorrectly predicted compounds are indentified and displayed."
   ]
  },
  {
   "cell_type": "code",
   "execution_count": null,
   "metadata": {},
   "outputs": [],
   "source": [
    "from IPython.core.display import display, HTML\n",
    "\n",
    "svm_predictions = svm_clf.predict(descriptors_test)\n",
    "indices = [i for i in range(len(activities_test)) if activities_test[i] != svm_predictions[i]]\n",
    "wrong_predictions_svm = df_Test_Data.iloc[indices,:]\n",
    "wrong_predicted_compounds = wrong_predictions_svm.index.tolist()\n",
    "print(str(len((wrong_predicted_compounds))) + ' compounds have been predicted incorrectly.')\n",
    "compounds_svm_wrong =  pd.DataFrame(wrong_predictions_svm['ROMol'])\n",
    "\n",
    "for index, row in compounds_svm_wrong.iterrows():\n",
    "    display(HTML(str(row['ROMol'])))"
   ]
  },
  {
   "cell_type": "markdown",
   "metadata": {},
   "source": [
    "#### Save Incorrectly Predicted Compounds"
   ]
  },
  {
   "cell_type": "markdown",
   "metadata": {},
   "source": [
    " A SDF-file is generated namely:” WP_SVM_Compounds.sdf” which includes all compounds that are predicted incorrectly."
   ]
  },
  {
   "cell_type": "code",
   "execution_count": null,
   "metadata": {},
   "outputs": [],
   "source": [
    "PandasTools.WriteSDF(wrong_predictions_svm,\"results/BSEP_WP_SVM_Compounds.sdf\",properties=list(wrong_predictions_svm.columns))"
   ]
  },
  {
   "cell_type": "markdown",
   "metadata": {},
   "source": [
    "####  SVM -  Evaluation Test  Set"
   ]
  },
  {
   "cell_type": "markdown",
   "metadata": {},
   "source": [
    "The SVM model is used for the prediction of the test set. "
   ]
  },
  {
   "cell_type": "code",
   "execution_count": null,
   "metadata": {},
   "outputs": [],
   "source": [
    "svm_predict = svm_clf.predict(descriptors_test)"
   ]
  },
  {
   "cell_type": "code",
   "execution_count": null,
   "metadata": {},
   "outputs": [],
   "source": [
    "acc_svm2 = 'Accuracy_score: %.3f' % accuracy_score(np.asarray(activities_test), svm_predict)\n",
    "sen_svm2 = 'Sensitivity: %.3f ' % recall_score(np.asarray(activities_test), svm_predict)\n",
    "spec_svm2 = 'Specificity: %.3f ' % recall_score(np.asarray(activities_test), svm_predict, pos_label=0)\n",
    "ba_svm2 = 'Balanced_accuracy_score: %.3f' % balanced_accuracy_score(np.asarray(activities_test), svm_predict)\n",
    "f1_svm2 = 'F1_score: %.3f' %  f1_score(np.asarray(activities_test), svm_predict)\n",
    "auc_svm2 = 'AUC %.3f' % (roc_auc_score(np.asarray(activities_test), svm_predict))\n",
    "prec_svm2 = 'Precision_score: %.3f' % precision_score(np.asarray(activities_test), svm_predict)\n",
    "mcc_svm2 = 'Matthews_corrcoef: %.3f' % matthews_corrcoef(np.asarray(activities_test), svm_predict)\n",
    "rec_svm2 = 'Recall_score: %.3f' % recall_score(np.asarray(activities_test), svm_predict)"
   ]
  },
  {
   "cell_type": "markdown",
   "metadata": {},
   "source": [
    "The performance of the models is tested , and following statistical metrics are used:\n",
    "\n",
    "    • Accuracy Score\n",
    "    • Sensitivity Score\n",
    "    • Specificity Score\n",
    "    • Balanced Accuracy (BA) Score\n",
    "    • F1 Score\n",
    "    • Area Under the Curve (AUC) Score\n",
    "    • Precision Score\n",
    "    • Matthews Correlation Coefficient (MCC) Score\n"
   ]
  },
  {
   "cell_type": "code",
   "execution_count": null,
   "metadata": {},
   "outputs": [],
   "source": [
    "import ipywidgets as widgets\n",
    "\n",
    "def dropdown(change):\n",
    "    print(change.new)    \n",
    "    \n",
    "Buttons = widgets.Dropdown(\n",
    "    options = [['Accuracy',acc_svm2], ['Sensitivity',sen_svm2], ['Specificity',spec_svm2], ['Balanced Accuracy',ba_svm2],['F1_score',f1_svm2], ['AUC',auc_svm2], ['Precision',prec_svm2], ['MCC',mcc_svm2],['Recall',rec_svm2]],\n",
    "    description= 'Choose one:',\n",
    "    value = None,\n",
    "    disabled=False,\n",
    "    indent=False\n",
    ")\n",
    "\n",
    "Buttons.observe(dropdown, names='value')\n",
    "display(Buttons)"
   ]
  },
  {
   "cell_type": "markdown",
   "metadata": {},
   "source": [
    "The resulted prediction is compared with the classification values of the test set and an additional column named \"Prediction Comparison\" is created. This column contains \"Right\" if the prediction matches the classification value or \"Wrong\" if not.\n",
    "\n",
    "In addition a column named \"Domain\" is created. This column indicates if the compounds within the test set are within the AD."
   ]
  },
  {
   "cell_type": "code",
   "execution_count": null,
   "metadata": {},
   "outputs": [],
   "source": [
    "df_Test = df_Test_Data\n",
    "df_Test[\"Prediction\"] = svm_predict\n",
    "df_Test[\"Prediction Comparison\"] = np.where(pd.to_numeric(df_Test[\"Classification\"]) == df_Test[\"Prediction\"], \"Right\", \"Wrong\")\n",
    "df_Test[\"Domain\"] = df_descriptors_test[\"LOF\"]\n",
    "df_Test[\"Domain\"] = np.where(df_Test.Domain.values == 1, \"In\", \"Out\")\n",
    "df_SVM_Test = df_Test\n",
    "print(df_SVM_Test)"
   ]
  },
  {
   "cell_type": "markdown",
   "metadata": {},
   "source": [
    "A SDF-file is generated namely:” SVM_Test_Prediction.sdf” which includes the information above mentioned."
   ]
  },
  {
   "cell_type": "code",
   "execution_count": null,
   "metadata": {},
   "outputs": [],
   "source": [
    "PandasTools.WriteSDF(df_SVM_Test,\"results/BSEP_SVM_Test_Prediction.sdf\",properties=list(df_SVM_Test.columns))\n",
    "df_SVM_Test.to_csv(\"results/BSEP_SVM_Test_Prediction.csv\")"
   ]
  },
  {
   "cell_type": "markdown",
   "metadata": {},
   "source": [
    "### 3) Random Forest (RF)"
   ]
  },
  {
   "cell_type": "code",
   "execution_count": null,
   "metadata": {},
   "outputs": [],
   "source": [
    "from sklearn.ensemble import RandomForestClassifier"
   ]
  },
  {
   "cell_type": "markdown",
   "metadata": {},
   "source": [
    "A RF model is created with pre-selected hyperparameters and fitted on the training set."
   ]
  },
  {
   "cell_type": "code",
   "execution_count": null,
   "metadata": {},
   "outputs": [],
   "source": [
    "rf_clf = RandomForestClassifier(class_weight=\"balanced\", max_depth = 4, n_estimators = 10)\n",
    "rf_clf.fit(descriptors, activities)"
   ]
  },
  {
   "cell_type": "markdown",
   "metadata": {},
   "source": [
    "A pickle-file is generated namely:” model_RF.pkl” which includes the model. \n",
    "\n",
    "Pickle in Python is used in serializing and deserializing a Python object structure."
   ]
  },
  {
   "cell_type": "code",
   "execution_count": null,
   "metadata": {},
   "outputs": [],
   "source": [
    "import pickle\n",
    "\n",
    "filename = 'results/BSEP_model_RF.pkl'\n",
    "pickle.dump(rf_clf, open(filename, 'wb'))"
   ]
  },
  {
   "cell_type": "markdown",
   "metadata": {},
   "source": [
    "#### RF - 10-CV Training Set"
   ]
  },
  {
   "cell_type": "markdown",
   "metadata": {},
   "source": [
    "The performance of the models is evaluated using a 10-fold cross-validation, and following statistical metrics are used:\n",
    "\n",
    "    • Accuracy Score\n",
    "    • Sensitivity Score\n",
    "    • Specificity Score\n",
    "    • Balanced Accuracy (BA) Score\n",
    "    • F1 Score\n",
    "    • Area Under the Curve (AUC) Score\n",
    "    • Precision Score\n",
    "    • Matthews Correlation Coefficient (MCC) Score"
   ]
  },
  {
   "cell_type": "code",
   "execution_count": null,
   "metadata": {},
   "outputs": [],
   "source": [
    "accuracy_score_cv = cross_val_score(rf_clf, descriptors, activities, scoring='accuracy', cv=10, n_jobs=-1, error_score='raise')\n",
    "sensitivity_score_cv = cross_val_score(rf_clf, descriptors, activities, scoring='recall', cv=10, n_jobs=-1, error_score='raise')\n",
    "specificity_cv = make_scorer(recall_score, pos_label=0)\n",
    "specificity_score_cv = cross_val_score(rf_clf, descriptors, activities, scoring=specificity_cv, cv=10, n_jobs=-1, error_score='raise')\n",
    "balanced_accuracy_score_cv = cross_val_score(rf_clf, descriptors, activities, scoring='balanced_accuracy', cv=10, n_jobs=-1, error_score='raise' )"
   ]
  },
  {
   "cell_type": "code",
   "execution_count": null,
   "metadata": {},
   "outputs": [],
   "source": [
    "f1_score_cv = cross_val_score(rf_clf, descriptors, activities, scoring='f1', cv=10, n_jobs=-1, error_score='raise')\n",
    "auc_cv = cross_val_score(rf_clf, descriptors, activities, scoring='roc_auc', cv=10, n_jobs=-1, error_score='raise')\n",
    "precision_score_cv = cross_val_score(rf_clf, descriptors, activities, scoring='precision', cv=10, n_jobs=-1, error_score='raise')\n",
    "matthews_corrcoef_cv = make_scorer(matthews_corrcoef)\n",
    "matthews_corrcoef_score_cv = cross_val_score(rf_clf, descriptors, activities, scoring=matthews_corrcoef_cv, cv=10, n_jobs=-1, error_score='raise')"
   ]
  },
  {
   "cell_type": "code",
   "execution_count": null,
   "metadata": {},
   "outputs": [],
   "source": [
    "acc_rf1 = 'Accuracy: %.3f (%.3f)' % (accuracy_score_cv.mean(), accuracy_score_cv.std())\n",
    "sen_rf1 = 'Sensitivity: %.3f (%.3f)' % (sensitivity_score_cv.mean(), sensitivity_score_cv.std())\n",
    "spec_rf1 = 'Specificity: %.3f (%.3f)' % (specificity_score_cv.mean(), specificity_score_cv.std())\n",
    "ba_rf1 = 'Balanced_Accuracy: %.3f (%.3f)' % (balanced_accuracy_score_cv.mean(), balanced_accuracy_score_cv.std())\n",
    "f1_rf1 = 'F1_score %.3f (%.3f)' % (f1_score_cv.mean(), f1_score_cv.std())\n",
    "auc_rf1 = 'AUC %.3f (%.3f)' % (auc_cv.mean(), auc_cv.std())\n",
    "prec_rf1 = 'Precision %.3f (%.3f)' % (precision_score_cv.mean(), precision_score_cv.std())\n",
    "mcc_rf1 = 'Matthews_corrcoef: %.3f (%.3f)' % (matthews_corrcoef_score_cv.mean(), matthews_corrcoef_score_cv.std())"
   ]
  },
  {
   "cell_type": "markdown",
   "metadata": {},
   "source": [
    "Interactive dropdown field is generated, and the statistical metric results of interest can be displayed one by one."
   ]
  },
  {
   "cell_type": "code",
   "execution_count": null,
   "metadata": {},
   "outputs": [],
   "source": [
    "import ipywidgets as widgets\n",
    "\n",
    "def dropdown(change):\n",
    "    print(change.new)    \n",
    "    \n",
    "Buttons = widgets.Dropdown(\n",
    "    options = [['Accuracy',acc_rf1], ['Sensitivity',sen_rf1], ['Specificity',spec_rf1], ['Balanced Accuracy',ba_rf1],['F1_score',f1_rf1], ['AUC',auc_rf1], ['Precision',prec_rf1], ['MCC',mcc_rf1]],\n",
    "    description= 'Choose one:',\n",
    "    value = None,\n",
    "    disabled=False,\n",
    "    indent=False\n",
    ")\n",
    "\n",
    "Buttons.observe(dropdown, names='value')\n",
    "display(Buttons)"
   ]
  },
  {
   "cell_type": "markdown",
   "metadata": {},
   "source": [
    "#### Incorrectly Predicted Compounds"
   ]
  },
  {
   "cell_type": "markdown",
   "metadata": {},
   "source": [
    "Incorrectly predicted compounds are indentified and displayed."
   ]
  },
  {
   "cell_type": "code",
   "execution_count": 2,
   "metadata": {},
   "outputs": [],
   "source": [
    "from IPython.core.display import display, HTML\n",
    "\n",
    "rf_predictions = rf_clf.predict(descriptors_test)\n",
    "indices = [i for i in range(len(activities_test)) if activities_test[i] != rf_predictions[i]]\n",
    "wrong_predictions_rf = df_Test_Data.iloc[indices,:]\n",
    "wrong_predicted_compounds = wrong_predictions_rf.index.tolist()\n",
    "print(str(len((wrong_predicted_compounds))) + ' compounds have been predicted incorrectly.')\n",
    "compounds_rf_wrong =  pd.DataFrame(wrong_predictions_rf['ROMol'])\n",
    "\n",
    "for index, row in compounds_rf_wrong.iterrows():\n",
    "    display(HTML(str(row['ROMol'])))"
   ]
  },
  {
   "cell_type": "markdown",
   "metadata": {},
   "source": [
    "#### Save Incorrectly Predicted Compounds"
   ]
  },
  {
   "cell_type": "markdown",
   "metadata": {},
   "source": [
    " A SDF-file is generated namely:” WP_RF_Compounds.sdf” which includes all compounds that are predicted incorrectly."
   ]
  },
  {
   "cell_type": "code",
   "execution_count": null,
   "metadata": {},
   "outputs": [],
   "source": [
    "PandasTools.WriteSDF(wrong_predictions_rf,\"results/BSEP_WP_RF_Compounds.sdf\",properties=list(wrong_predictions_rf.columns))"
   ]
  },
  {
   "cell_type": "markdown",
   "metadata": {},
   "source": [
    "#### RF - Evaluation Test Set"
   ]
  },
  {
   "cell_type": "markdown",
   "metadata": {},
   "source": [
    "The RF model is used for the prediction of the test set. "
   ]
  },
  {
   "cell_type": "code",
   "execution_count": null,
   "metadata": {},
   "outputs": [],
   "source": [
    "rf_predict = rf_clf.predict(descriptors_test)"
   ]
  },
  {
   "cell_type": "markdown",
   "metadata": {},
   "source": [
    "The performance of the models is tested , and following statistical metrics are used:\n",
    "\n",
    "    • Accuracy Score\n",
    "    • Sensitivity Score\n",
    "    • Specificity Score\n",
    "    • Balanced Accuracy (BA) Score\n",
    "    • F1 Score\n",
    "    • Area Under the Curve (AUC) Score\n",
    "    • Precision Score\n",
    "    • Matthews Correlation Coefficient (MCC) Score\n"
   ]
  },
  {
   "cell_type": "code",
   "execution_count": null,
   "metadata": {},
   "outputs": [],
   "source": [
    "acc_rf2 = 'Accuracy_score: %.3f' % accuracy_score(np.asarray(activities_test), rf_predict)\n",
    "sen_rf2 = 'Sensitivity: %.3f ' % recall_score(np.asarray(activities_test), rf_predict)\n",
    "spec_rf2 = 'Specificity: %.3f ' % recall_score(np.asarray(activities_test), rf_predict, pos_label=0)\n",
    "ba_rf2 = 'Balanced_accuracy_score: %.3f' % balanced_accuracy_score(np.asarray(activities_test), rf_predict)\n",
    "f1_rf2 = 'F1_score: %.3f' %  f1_score(np.asarray(activities_test), rf_predict)\n",
    "auc_rf2 = 'AUC %.3f' % (roc_auc_score(np.asarray(activities_test), rf_predict))\n",
    "prec_rf2 = 'Precision_score: %.3f' % precision_score(np.asarray(activities_test), rf_predict)\n",
    "mcc_rf2 = 'Matthews_corrcoef: %.3f' % matthews_corrcoef(np.asarray(activities_test), rf_predict)\n",
    "rec_rf2 = 'Recall_score: %.3f' % recall_score(np.asarray(activities_test), rf_predict)"
   ]
  },
  {
   "cell_type": "markdown",
   "metadata": {},
   "source": [
    "Interactive dropdown field is generated, and the statistical metric results of interest can be displayed one by one."
   ]
  },
  {
   "cell_type": "code",
   "execution_count": null,
   "metadata": {},
   "outputs": [],
   "source": [
    "import ipywidgets as widgets\n",
    "\n",
    "def dropdown(change):\n",
    "    print(change.new)    \n",
    "    \n",
    "Buttons = widgets.Dropdown(\n",
    "    options = [['Accuracy',acc_rf2], ['Sensitivity',sen_rf2], ['Specificity',spec_rf2], ['Balanced Accuracy',ba_rf2],['F1_score',f1_rf2], ['AUC',auc_rf2], ['Precision',prec_rf2], ['MCC',mcc_rf2],['Recall',rec_rf2]],\n",
    "    description= 'Choose one:',\n",
    "    value = None,\n",
    "    disabled=False,\n",
    "    indent=False\n",
    ")\n",
    "\n",
    "Buttons.observe(dropdown, names='value')\n",
    "display(Buttons)"
   ]
  },
  {
   "cell_type": "markdown",
   "metadata": {},
   "source": [
    "The resulted prediction is compared with the classification values of the test set and an additional column named \"Prediction Comparison\" is created. This column contains \"Right\" if the prediction matches the classification value or \"Wrong\" if not.\n",
    "\n",
    "In addition a column named \"Domain\" is created. This column indicates if the compounds within the test set are within the AD."
   ]
  },
  {
   "cell_type": "code",
   "execution_count": null,
   "metadata": {},
   "outputs": [],
   "source": [
    "df_Test = df_Test_Data\n",
    "df_Test[\"Prediction\"] = rf_predict\n",
    "df_Test[\"Prediction Comparison\"] = np.where(pd.to_numeric(df_Test[\"Classification\"]) == df_Test[\"Prediction\"], \"Right\", \"Wrong\")\n",
    "df_Test[\"Domain\"] = df_descriptors_test[\"LOF\"]\n",
    "df_Test[\"Domain\"] = np.where(df_Test.Domain.values == 1, \"In\", \"Out\")\n",
    "df_RF_Test = df_Test\n",
    "print(df_RF_Test)"
   ]
  },
  {
   "cell_type": "markdown",
   "metadata": {},
   "source": [
    "A SDF-file is generated namely:” RF_Test_Prediction.sdf” which includes the information above mentioned."
   ]
  },
  {
   "cell_type": "code",
   "execution_count": null,
   "metadata": {},
   "outputs": [],
   "source": [
    "PandasTools.WriteSDF(df_RF_Test,\"results/BSEP_RF_Test_Prediction.sdf\",properties=list(df_RF_Test.columns))\n",
    "df_RF_Test.to_csv(\"results/BSEP_RF_Test_Prediction.csv\")"
   ]
  },
  {
   "cell_type": "markdown",
   "metadata": {},
   "source": [
    "### 4) K-Nearest Neighbor (KNN)"
   ]
  },
  {
   "cell_type": "code",
   "execution_count": null,
   "metadata": {},
   "outputs": [],
   "source": [
    "from sklearn.neighbors import KNeighborsClassifier"
   ]
  },
  {
   "cell_type": "markdown",
   "metadata": {},
   "source": [
    "A KNN model is created with pre-selected hyperparameters and fitted on the training set."
   ]
  },
  {
   "cell_type": "code",
   "execution_count": null,
   "metadata": {},
   "outputs": [],
   "source": [
    "knn_clf = KNeighborsClassifier(metric =  'euclidean', n_neighbors = 3, weights =  'distance')\n",
    "knn_clf.fit(descriptors,activities)"
   ]
  },
  {
   "cell_type": "markdown",
   "metadata": {},
   "source": [
    "A pickle-file is generated namely:” model_KNN.pkl” which includes the model. \n",
    "\n",
    "Pickle in Python is used in serializing and deserializing a Python object structure."
   ]
  },
  {
   "cell_type": "code",
   "execution_count": null,
   "metadata": {},
   "outputs": [],
   "source": [
    "import pickle\n",
    "\n",
    "filename = 'results/BSEP_model_KNN.pkl'\n",
    "pickle.dump(knn_clf, open(filename, 'wb'))"
   ]
  },
  {
   "cell_type": "markdown",
   "metadata": {},
   "source": [
    "####  KNN -  10-CV Training Set"
   ]
  },
  {
   "cell_type": "markdown",
   "metadata": {},
   "source": [
    "The performance of the models is evaluated using a 10-fold cross-validation, and following statistical metrics are used:\n",
    "\n",
    "    • Accuracy Score\n",
    "    • Sensitivity Score\n",
    "    • Specificity Score\n",
    "    • Balanced Accuracy (BA) Score\n",
    "    • F1 Score\n",
    "    • Area Under the Curve (AUC) Score\n",
    "    • Precision Score\n",
    "    • Matthews Correlation Coefficient (MCC) Score"
   ]
  },
  {
   "cell_type": "code",
   "execution_count": null,
   "metadata": {},
   "outputs": [],
   "source": [
    "accuracy_score_cv = cross_val_score(knn_clf, descriptors, activities, scoring='accuracy', cv=10, n_jobs=-1, error_score='raise')\n",
    "sensitivity_score_cv = cross_val_score(knn_clf, descriptors, activities, scoring='recall', cv=10, n_jobs=-1, error_score='raise')\n",
    "specificity_cv = make_scorer(recall_score, pos_label=0)\n",
    "specificity_score_cv = cross_val_score(knn_clf, descriptors, activities, scoring=specificity_cv, cv=10, n_jobs=-1, error_score='raise')\n",
    "balanced_accuracy_score_cv = cross_val_score(knn_clf, descriptors, activities, scoring='balanced_accuracy', cv=10, n_jobs=-1, error_score='raise' )"
   ]
  },
  {
   "cell_type": "code",
   "execution_count": null,
   "metadata": {},
   "outputs": [],
   "source": [
    "f1_score_cv = cross_val_score(knn_clf, descriptors, activities, scoring='f1', cv=10, n_jobs=-1, error_score='raise')\n",
    "auc_cv = cross_val_score(knn_clf, descriptors, activities, scoring='roc_auc', cv=10, n_jobs=-1, error_score='raise')\n",
    "precision_score_cv = cross_val_score(knn_clf, descriptors, activities, scoring='precision', cv=10, n_jobs=-1, error_score='raise')\n",
    "matthews_corrcoef_cv = make_scorer(matthews_corrcoef)\n",
    "matthews_corrcoef_score_cv = cross_val_score(knn_clf, descriptors, activities, scoring=matthews_corrcoef_cv, cv=10, n_jobs=-1, error_score='raise')"
   ]
  },
  {
   "cell_type": "code",
   "execution_count": null,
   "metadata": {},
   "outputs": [],
   "source": [
    "acc_knn1 = 'Accuracy: %.3f (%.3f)' % (accuracy_score_cv.mean(), accuracy_score_cv.std())\n",
    "sen_knn1 = 'Sensitivity: %.3f (%.3f)' % (sensitivity_score_cv.mean(), sensitivity_score_cv.std())\n",
    "spec_knn1 = 'Specificity: %.3f (%.3f)' % (specificity_score_cv.mean(), specificity_score_cv.std())\n",
    "ba_knn1 = 'Balanced_Accuracy: %.3f (%.3f)' % (balanced_accuracy_score_cv.mean(), balanced_accuracy_score_cv.std())\n",
    "f1_knn1 = 'F1_score %.3f (%.3f)' % (f1_score_cv.mean(), f1_score_cv.std())\n",
    "auc_knn1 = 'AUC %.3f (%.3f)' % (auc_cv.mean(), auc_cv.std())\n",
    "prec_knn1 = 'Precision %.3f (%.3f)' % (precision_score_cv.mean(), precision_score_cv.std())\n",
    "mcc_knn1 = 'Matthews_corrcoef: %.3f (%.3f)' % (matthews_corrcoef_score_cv.mean(), matthews_corrcoef_score_cv.std())"
   ]
  },
  {
   "cell_type": "markdown",
   "metadata": {},
   "source": [
    "Interactive dropdown field is generated, and the statistical metric results of interest can be displayed one by one."
   ]
  },
  {
   "cell_type": "code",
   "execution_count": null,
   "metadata": {},
   "outputs": [],
   "source": [
    "import ipywidgets as widgets\n",
    "\n",
    "def dropdown(change):\n",
    "    print(change.new)    \n",
    "    \n",
    "Buttons = widgets.Dropdown(\n",
    "    options = [['Accuracy',acc_knn1], ['Sensitivity',sen_knn1], ['Specificity',spec_knn1], ['Balanced Accuracy',ba_knn1],['F1_score',f1_knn1], ['AUC',auc_knn1], ['Precision',prec_knn1], ['MCC',mcc_knn1]],\n",
    "    description= 'Choose one:',\n",
    "    value = None,\n",
    "    disabled=False,\n",
    "    indent=False\n",
    ")\n",
    "\n",
    "Buttons.observe(dropdown, names='value')\n",
    "display(Buttons)"
   ]
  },
  {
   "cell_type": "markdown",
   "metadata": {},
   "source": [
    "#### Incorrectly Predicted Compounds"
   ]
  },
  {
   "cell_type": "markdown",
   "metadata": {},
   "source": [
    "Incorrectly predicted compounds are indentified and displayed."
   ]
  },
  {
   "cell_type": "code",
   "execution_count": null,
   "metadata": {},
   "outputs": [],
   "source": [
    "from IPython.core.display import display, HTML\n",
    "\n",
    "knn_predictions = knn_clf.predict(descriptors_test)\n",
    "indices = [i for i in range(len(activities_test)) if activities_test[i] != knn_predictions[i]]\n",
    "wrong_predictions_knn = df_Test_Data.iloc[indices,:]\n",
    "wrong_predicted_compounds = wrong_predictions_knn.index.tolist()\n",
    "print(str(len((wrong_predicted_compounds))) + ' compounds have been predicted incorrectly.')\n",
    "compounds_knn_wrong =  pd.DataFrame(wrong_predictions_knn['ROMol'])\n",
    "\n",
    "for index, row in compounds_knn_wrong.iterrows():\n",
    "    display(HTML(str(row['ROMol'])))"
   ]
  },
  {
   "cell_type": "markdown",
   "metadata": {},
   "source": [
    "#### Save Incorrectly Predicted Compounds"
   ]
  },
  {
   "cell_type": "markdown",
   "metadata": {},
   "source": [
    " A SDF-file is generated namely:” WP_KNN_Compounds.sdf” which includes all compounds that are predicted incorrectly."
   ]
  },
  {
   "cell_type": "code",
   "execution_count": null,
   "metadata": {},
   "outputs": [],
   "source": [
    "PandasTools.WriteSDF(wrong_predictions_knn,\"results/BSEP_WP_KNN_Compounds.sdf\",properties=list(wrong_predictions_knn.columns))"
   ]
  },
  {
   "cell_type": "markdown",
   "metadata": {},
   "source": [
    "####  KNN -  Evaluation Test Set"
   ]
  },
  {
   "cell_type": "markdown",
   "metadata": {},
   "source": [
    "The KNN model is used for the prediction of the test set. "
   ]
  },
  {
   "cell_type": "code",
   "execution_count": null,
   "metadata": {},
   "outputs": [],
   "source": [
    "knn_predict = knn_clf.predict(descriptors_test)"
   ]
  },
  {
   "cell_type": "code",
   "execution_count": null,
   "metadata": {},
   "outputs": [],
   "source": [
    "acc_knn2 = 'Accuracy_score: %.3f' % accuracy_score(np.asarray(activities_test), knn_predict)\n",
    "sen_knn2 = 'Sensitivity: %.3f ' % recall_score(np.asarray(activities_test), knn_predict)\n",
    "spec_knn2 = 'Specificity: %.3f ' % recall_score(np.asarray(activities_test), knn_predict, pos_label=0)\n",
    "ba_knn2 = 'Balanced_accuracy_score: %.3f' % balanced_accuracy_score(np.asarray(activities_test), knn_predict)\n",
    "f1_knn2 = 'F1_score: %.3f' %  f1_score(np.asarray(activities_test), knn_predict)\n",
    "auc_knn2 = 'AUC %.3f' % (roc_auc_score(np.asarray(activities_test), knn_predict))\n",
    "prec_knn2 = 'Precision_score: %.3f' % precision_score(np.asarray(activities_test), knn_predict)\n",
    "mcc_knn2 = 'Matthews_corrcoef: %.3f' % matthews_corrcoef(np.asarray(activities_test), knn_predict)\n",
    "rec_knn2 = 'Recall_score: %.3f' % recall_score(np.asarray(activities_test), knn_predict)"
   ]
  },
  {
   "cell_type": "markdown",
   "metadata": {},
   "source": [
    "Interactive dropdown field is generated, and the statistical metric results of interest can be displayed one by one."
   ]
  },
  {
   "cell_type": "code",
   "execution_count": null,
   "metadata": {},
   "outputs": [],
   "source": [
    "import ipywidgets as widgets\n",
    "\n",
    "def dropdown(change):\n",
    "    print(change.new)    \n",
    "    \n",
    "Buttons = widgets.Dropdown(\n",
    "    options = [['Accuracy',acc_knn2], ['Sensitivity',sen_knn2], ['Specificity',spec_knn2], ['Balanced Accuracy',ba_knn2],['F1_score',f1_knn2], ['AUC',auc_knn2], ['Precision',prec_knn2], ['MCC',mcc_knn2],['Recall',rec_knn2]],\n",
    "    description= 'Choose one:',\n",
    "    value = None,\n",
    "    disabled=False,\n",
    "    indent=False\n",
    ")\n",
    "\n",
    "Buttons.observe(dropdown, names='value')\n",
    "display(Buttons)"
   ]
  },
  {
   "cell_type": "markdown",
   "metadata": {},
   "source": [
    "The resulted prediction is compared with the classification values of the test set and an additional column named \"Prediction Comparison\" is created. This column contains \"Right\" if the prediction matches the classification value or \"Wrong\" if not.\n",
    "\n",
    "In addition a column named \"Domain\" is created. This column indicates if the compounds within the test set are within the AD."
   ]
  },
  {
   "cell_type": "code",
   "execution_count": null,
   "metadata": {},
   "outputs": [],
   "source": [
    "df_Test = df_Test_Data\n",
    "df_Test[\"Prediction\"] = knn_predict\n",
    "df_Test[\"Prediction Comparison\"] = np.where(pd.to_numeric(df_Test[\"Classification\"]) == df_Test[\"Prediction\"], \"Right\", \"Wrong\")\n",
    "df_Test[\"Domain\"] = df_descriptors_test[\"LOF\"]\n",
    "df_Test[\"Domain\"] = np.where(df_Test.Domain.values == 1, \"In\", \"Out\")\n",
    "df_KNN_Test = df_Test\n",
    "print(df_KNN_Test)"
   ]
  },
  {
   "cell_type": "markdown",
   "metadata": {},
   "source": [
    "A SDF-file is generated namely:” KNN_Test_Prediction.sdf” which includes the information above mentioned."
   ]
  },
  {
   "cell_type": "code",
   "execution_count": null,
   "metadata": {},
   "outputs": [],
   "source": [
    "PandasTools.WriteSDF(df_KNN_Test,\"results/BSEP_KNN_Test_Prediction.sdf\",properties=list(df_KNN_Test.columns))\n",
    "df_KNN_Test.to_csv(\"results/BSEP_KNN_Test_Prediction.csv\")"
   ]
  }
 ],
 "metadata": {
  "kernelspec": {
   "display_name": "Python [conda env:retraining_env] *",
   "language": "python",
   "name": "conda-env-retraining_env-py"
  },
  "language_info": {
   "codemirror_mode": {
    "name": "ipython",
    "version": 3
   },
   "file_extension": ".py",
   "mimetype": "text/x-python",
   "name": "python",
   "nbconvert_exporter": "python",
   "pygments_lexer": "ipython3",
   "version": "3.7.10"
  },
  "toc": {
   "base_numbering": 1,
   "nav_menu": {},
   "number_sections": true,
   "sideBar": true,
   "skip_h1_title": false,
   "title_cell": "Table of Contents",
   "title_sidebar": "Contents",
   "toc_cell": false,
   "toc_position": {
    "height": "calc(100% - 180px)",
    "left": "10px",
    "top": "150px",
    "width": "410.66px"
   },
   "toc_section_display": true,
   "toc_window_display": true
  }
 },
 "nbformat": 4,
 "nbformat_minor": 4
}
